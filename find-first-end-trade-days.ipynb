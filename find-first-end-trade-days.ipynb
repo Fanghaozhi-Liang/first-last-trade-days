{
 "cells": [
  {
   "cell_type": "code",
   "execution_count": 1,
   "metadata": {
    "code_folding": [
     6,
     39,
     77
    ]
   },
   "outputs": [],
   "source": [
    "from background_code.host_password import *      # 导入密码和host\n",
    "from background_code.mysqlconnection import mysql\n",
    "import pandas as pd\n",
    "import time"
   ]
  },
  {
   "cell_type": "code",
   "execution_count": 2,
   "metadata": {},
   "outputs": [
    {
     "data": {
      "text/html": [
       "<div>\n",
       "<style scoped>\n",
       "    .dataframe tbody tr th:only-of-type {\n",
       "        vertical-align: middle;\n",
       "    }\n",
       "\n",
       "    .dataframe tbody tr th {\n",
       "        vertical-align: top;\n",
       "    }\n",
       "\n",
       "    .dataframe thead th {\n",
       "        text-align: right;\n",
       "    }\n",
       "</style>\n",
       "<table border=\"1\" class=\"dataframe\">\n",
       "  <thead>\n",
       "    <tr style=\"text-align: right;\">\n",
       "      <th></th>\n",
       "      <th>0</th>\n",
       "    </tr>\n",
       "  </thead>\n",
       "  <tbody>\n",
       "    <tr>\n",
       "      <th>0</th>\n",
       "      <td>20100104</td>\n",
       "    </tr>\n",
       "    <tr>\n",
       "      <th>1</th>\n",
       "      <td>20100105</td>\n",
       "    </tr>\n",
       "    <tr>\n",
       "      <th>2</th>\n",
       "      <td>20100106</td>\n",
       "    </tr>\n",
       "    <tr>\n",
       "      <th>3</th>\n",
       "      <td>20100107</td>\n",
       "    </tr>\n",
       "    <tr>\n",
       "      <th>4</th>\n",
       "      <td>20100108</td>\n",
       "    </tr>\n",
       "    <tr>\n",
       "      <th>...</th>\n",
       "      <td>...</td>\n",
       "    </tr>\n",
       "    <tr>\n",
       "      <th>2669</th>\n",
       "      <td>20201225</td>\n",
       "    </tr>\n",
       "    <tr>\n",
       "      <th>2670</th>\n",
       "      <td>20201228</td>\n",
       "    </tr>\n",
       "    <tr>\n",
       "      <th>2671</th>\n",
       "      <td>20201229</td>\n",
       "    </tr>\n",
       "    <tr>\n",
       "      <th>2672</th>\n",
       "      <td>20201230</td>\n",
       "    </tr>\n",
       "    <tr>\n",
       "      <th>2673</th>\n",
       "      <td>20201231</td>\n",
       "    </tr>\n",
       "  </tbody>\n",
       "</table>\n",
       "<p>2674 rows × 1 columns</p>\n",
       "</div>"
      ],
      "text/plain": [
       "             0\n",
       "0     20100104\n",
       "1     20100105\n",
       "2     20100106\n",
       "3     20100107\n",
       "4     20100108\n",
       "...        ...\n",
       "2669  20201225\n",
       "2670  20201228\n",
       "2671  20201229\n",
       "2672  20201230\n",
       "2673  20201231\n",
       "\n",
       "[2674 rows x 1 columns]"
      ]
     },
     "execution_count": 2,
     "metadata": {},
     "output_type": "execute_result"
    }
   ],
   "source": [
    "# 计算交易日----------------------------------------------------------------------------\n",
    "\n",
    "# 连接交易日数据库\n",
    "data_test_1 = mysql('tradedays')\n",
    "sql = 'select * from `hs_tradedays_daily`'\n",
    "tradedays_daily = pd.DataFrame(list(data_test_1.execute(sql)))\n",
    "tradedays_daily"
   ]
  },
  {
   "cell_type": "code",
   "execution_count": 3,
   "metadata": {
    "code_folding": [
     1
    ]
   },
   "outputs": [],
   "source": [
    "# An algorithm in marking first & last trade day in a week with mistakes\n",
    "def mark_first_end_value(week_list,index):\n",
    "    \n",
    "    # 一旦一个日期被确定为某周第一个交易日，周号将被储存;一旦周号被存储，则周号对应的一定不是第一个交易日\n",
    "    save_value=0         \n",
    "    \n",
    "    lis=[]\n",
    "    \n",
    "    if index==0:    # 当index=0时，mark每周第一个交易日\n",
    "        # 方法就是把周号颠倒过来,lis在颠倒回去\n",
    "        for weekofyear in week_list:\n",
    "            # 判断周号是不是某周第一个交易日，即：确定flag的值\n",
    "            if save_value!=weekofyear:    # 周号未被储存或更新时\n",
    "                lis.append(1)             # 该周号是某周第一个交易日，记做1\n",
    "                save_value=weekofyear     # 该周号被储存后，就不再是第一个交易日了\n",
    "            else:                         # 周号已被被储存或更新时\n",
    "                lis.append(0)             # 该周号不是某周第一个交易日，记做0       \n",
    "\n",
    "        return lis\n",
    "    \n",
    "    else:         # 当index=1时，mark每周最后一个交易日\n",
    "        # 方法就是把周号颠倒过来,lis在颠倒回去\n",
    "        for weekofyear in week_list[::-1]:\n",
    "            # 判断周号是不是某周第一个交易日，即：确定flag的值\n",
    "            if save_value!=weekofyear:    # 周号未被储存或更新时\n",
    "                lis.append(1)             # 该周号是某周第一个交易日，记做1\n",
    "                save_value=weekofyear\n",
    "            else:                         # 周号已被被储存或更新时\n",
    "                lis.append(0)             # 该周号不是某周第一个交易日，记做0\n",
    "\n",
    "        return lis[::-1]"
   ]
  },
  {
   "cell_type": "code",
   "execution_count": 4,
   "metadata": {
    "code_folding": [
     1
    ]
   },
   "outputs": [],
   "source": [
    "# Correct wrong mark near New Year\n",
    "def corr_error(tradedays_daily):\n",
    "    \n",
    "    # 推论：函数mark_first_end_value只可能在跨年时出现问题\n",
    "    error_occur=tradedays_daily[((tradedays_daily['endday']==1) | \n",
    "                                 (tradedays_daily['startday']==1))\n",
    "                               &\n",
    "                               ((tradedays_daily['weekofyear']==0) | \n",
    "                                (tradedays_daily['weekofyear']==52) |\n",
    "                               (tradedays_daily['weekofyear']==53))]\n",
    "     \n",
    "# 命题：跨年问题出现的充要条件：前一年的最后一个交易日和新一年的第一个交易日出现在一个自然周里\n",
    "# 命题：跨年问题出现的充要条件是：前一年的最后一个交易日出现在最后一周，\n",
    "#                            新一年的第一个交易日出现在第一周，\n",
    "#                            新年第一个交易日的周几数大于前一年的最后一个交易日的周几数,\n",
    "#                            跨年前后两个交易日日期差小于等于5天\n",
    "#                            \n",
    "\n",
    "    for i in error_occur.index:\n",
    "        # 如果一年的第一个交易日出现在weekofyear=1时(即：一年的第二周)，那就不存在跨年问题\n",
    "        # 推论：当且仅当，一年的的第一周(weekyear=0)出现交易日时，才可能出现跨年问题\n",
    "        # 推论：i-1行和i行的天数之差大于5，则不会发生跨年问题;\n",
    "        #      该推论等价于：当且仅当上一年最后一周(weekyear=0)出现交易日时，才可能出现跨年问题\n",
    "        #      由于有的时候是52周有的时候是53周\n",
    "        # 推论：若i行为0周，i-1行不为0周，问题只可能出现在i-1行的endday和i行的startday\n",
    "        if (tradedays_daily.at[i,'weekofyear']==0 and tradedays_daily.at[i-1,'weekofyear']!=0 \n",
    "            and tradedays_daily.at[i,'dayofweek']>tradedays_daily.at[i-1,'dayofweek']\n",
    "            and (pd.to_datetime(tradedays_daily.at[i,0],format='%Y%m%d')-\n",
    "            pd.to_datetime(tradedays_daily.at[i-1,0],format='%Y%m%d')).days<=5):\n",
    "            # 如果i行是0周，i-1行不是0周，那i-1行一定是上一年的52或53周的最后一个交易日，\n",
    "            # i-1行的startday一定是对的，i-1行endday有可能是错的\n",
    "            # i行的endday一定是对的，i行的startday有可能是错的\n",
    "            # 推论：当且仅当，i行的周几数大于i-1行的周几数时，会发生跨年问题\n",
    "            tradedays_daily.at[i,'startday']=0\n",
    "            tradedays_daily.at[i-1,'endday']=0\n",
    "\n",
    "    return tradedays_daily"
   ]
  },
  {
   "cell_type": "code",
   "execution_count": 5,
   "metadata": {
    "code_folding": [
     1
    ]
   },
   "outputs": [],
   "source": [
    "# 寻找每周第一个和最后一个交易日\n",
    "def find_fisrt_end_day(tradedays_daily,ref_date,indicator):\n",
    "\n",
    "    ref_date_index = list(tradedays_daily[0]).index(int(ref_date))\n",
    "    \n",
    "    if indicator==0:             # 寻找从自己开始，离自己最近的startday\n",
    "        for i in range(ref_date_index,-1,-1):        # 一组倒序数列，从自己开始，左闭右开\n",
    "            if tradedays_daily.at[i,'startday']==1:\n",
    "                break\n",
    "    elif indicator==1:           # 寻找从自己的上一个开始，离自己最近的,上一个endday\n",
    "        for i in range(ref_date_index-1,-1,-1):     # 一组倒序数列，从自己的上一行开始，左闭右开\n",
    "            if tradedays_daily.at[i,'endday']==1:\n",
    "                break\n",
    "    elif indicator==-1:          # 寻找从自己开始，离自己最近的，下一个endday\n",
    "        # 一组正数列，从自己开始，前往最后一行，左闭右开\n",
    "        for i in range(ref_date_index,len(tradedays_daily)):\n",
    "            if tradedays_daily.at[i,'endday']==1:\n",
    "                break\n",
    "\n",
    "    return str(tradedays_daily.at[i,0])"
   ]
  },
  {
   "cell_type": "code",
   "execution_count": 6,
   "metadata": {},
   "outputs": [
    {
     "data": {
      "text/html": [
       "<div>\n",
       "<style scoped>\n",
       "    .dataframe tbody tr th:only-of-type {\n",
       "        vertical-align: middle;\n",
       "    }\n",
       "\n",
       "    .dataframe tbody tr th {\n",
       "        vertical-align: top;\n",
       "    }\n",
       "\n",
       "    .dataframe thead th {\n",
       "        text-align: right;\n",
       "    }\n",
       "</style>\n",
       "<table border=\"1\" class=\"dataframe\">\n",
       "  <thead>\n",
       "    <tr style=\"text-align: right;\">\n",
       "      <th></th>\n",
       "      <th>0</th>\n",
       "      <th>dayofweek</th>\n",
       "      <th>weekofyear</th>\n",
       "      <th>startday</th>\n",
       "      <th>endday</th>\n",
       "    </tr>\n",
       "  </thead>\n",
       "  <tbody>\n",
       "    <tr>\n",
       "      <th>0</th>\n",
       "      <td>20100104</td>\n",
       "      <td>1</td>\n",
       "      <td>1</td>\n",
       "      <td>1</td>\n",
       "      <td>0</td>\n",
       "    </tr>\n",
       "    <tr>\n",
       "      <th>1</th>\n",
       "      <td>20100105</td>\n",
       "      <td>2</td>\n",
       "      <td>1</td>\n",
       "      <td>0</td>\n",
       "      <td>0</td>\n",
       "    </tr>\n",
       "    <tr>\n",
       "      <th>2</th>\n",
       "      <td>20100106</td>\n",
       "      <td>3</td>\n",
       "      <td>1</td>\n",
       "      <td>0</td>\n",
       "      <td>0</td>\n",
       "    </tr>\n",
       "    <tr>\n",
       "      <th>3</th>\n",
       "      <td>20100107</td>\n",
       "      <td>4</td>\n",
       "      <td>1</td>\n",
       "      <td>0</td>\n",
       "      <td>0</td>\n",
       "    </tr>\n",
       "    <tr>\n",
       "      <th>4</th>\n",
       "      <td>20100108</td>\n",
       "      <td>5</td>\n",
       "      <td>1</td>\n",
       "      <td>0</td>\n",
       "      <td>1</td>\n",
       "    </tr>\n",
       "    <tr>\n",
       "      <th>...</th>\n",
       "      <td>...</td>\n",
       "      <td>...</td>\n",
       "      <td>...</td>\n",
       "      <td>...</td>\n",
       "      <td>...</td>\n",
       "    </tr>\n",
       "    <tr>\n",
       "      <th>2669</th>\n",
       "      <td>20201225</td>\n",
       "      <td>5</td>\n",
       "      <td>51</td>\n",
       "      <td>0</td>\n",
       "      <td>1</td>\n",
       "    </tr>\n",
       "    <tr>\n",
       "      <th>2670</th>\n",
       "      <td>20201228</td>\n",
       "      <td>1</td>\n",
       "      <td>52</td>\n",
       "      <td>1</td>\n",
       "      <td>0</td>\n",
       "    </tr>\n",
       "    <tr>\n",
       "      <th>2671</th>\n",
       "      <td>20201229</td>\n",
       "      <td>2</td>\n",
       "      <td>52</td>\n",
       "      <td>0</td>\n",
       "      <td>0</td>\n",
       "    </tr>\n",
       "    <tr>\n",
       "      <th>2672</th>\n",
       "      <td>20201230</td>\n",
       "      <td>3</td>\n",
       "      <td>52</td>\n",
       "      <td>0</td>\n",
       "      <td>0</td>\n",
       "    </tr>\n",
       "    <tr>\n",
       "      <th>2673</th>\n",
       "      <td>20201231</td>\n",
       "      <td>4</td>\n",
       "      <td>52</td>\n",
       "      <td>0</td>\n",
       "      <td>1</td>\n",
       "    </tr>\n",
       "  </tbody>\n",
       "</table>\n",
       "<p>2674 rows × 5 columns</p>\n",
       "</div>"
      ],
      "text/plain": [
       "             0  dayofweek  weekofyear  startday  endday\n",
       "0     20100104          1           1         1       0\n",
       "1     20100105          2           1         0       0\n",
       "2     20100106          3           1         0       0\n",
       "3     20100107          4           1         0       0\n",
       "4     20100108          5           1         0       1\n",
       "...        ...        ...         ...       ...     ...\n",
       "2669  20201225          5          51         0       1\n",
       "2670  20201228          1          52         1       0\n",
       "2671  20201229          2          52         0       0\n",
       "2672  20201230          3          52         0       0\n",
       "2673  20201231          4          52         0       1\n",
       "\n",
       "[2674 rows x 5 columns]"
      ]
     },
     "execution_count": 6,
     "metadata": {},
     "output_type": "execute_result"
    }
   ],
   "source": [
    "tradedays_daily['dayofweek']=tradedays_daily[0].apply(\n",
    "    lambda x: pd.to_datetime(x,format='%Y%m%d').dayofweek+1)\n",
    "tradedays_daily['weekofyear']=tradedays_daily[0].apply(\n",
    "    lambda x: int(pd.to_datetime(x,format='%Y%m%d').strftime(\"%W\")))\n",
    "tradedays_daily['startday']=mark_first_end_value(list(tradedays_daily['weekofyear']),0) \n",
    "tradedays_daily['endday']=mark_first_end_value(list(tradedays_daily['weekofyear']),1)\n",
    "tradedays_daily=corr_error(tradedays_daily)\n",
    "tradedays_daily"
   ]
  },
  {
   "cell_type": "code",
   "execution_count": 7,
   "metadata": {},
   "outputs": [
    {
     "name": "stdout",
     "output_type": "stream",
     "text": [
      "20201130\n",
      "20201127\n",
      "20201123\n",
      "20201120\n"
     ]
    }
   ],
   "source": [
    "# ref_date could be any trade day\n",
    "ref_date='20201203'\n",
    "ref_date_start=find_fisrt_end_day(tradedays_daily,ref_date,0);print(ref_date_start)\n",
    "last_ref_date=find_fisrt_end_day(tradedays_daily,ref_date,1);print(last_ref_date)\n",
    "last_ref_start=find_fisrt_end_day(tradedays_daily,last_ref_date,0);print(last_ref_start)\n",
    "ll_ref=find_fisrt_end_day(tradedays_daily,last_ref_date,1);print(ll_ref)"
   ]
  },
  {
   "cell_type": "code",
   "execution_count": 8,
   "metadata": {
    "code_folding": [
     2
    ]
   },
   "outputs": [],
   "source": [
    "# 当n=1时，返回上一个ref_date；当n=k时，返回上k个ref_date\n",
    "# 在m个ref_date中，当n=k时，返回第(m-k)个ref_date\n",
    "def ref_recursive(n):    \n",
    "    if n==1:\n",
    "        return find_fisrt_end_day(tradedays_daily,ref_date,1)\n",
    "    else:\n",
    "        return find_fisrt_end_day(tradedays_daily,ref_recursive(n-1),1)"
   ]
  },
  {
   "cell_type": "code",
   "execution_count": 9,
   "metadata": {},
   "outputs": [
    {
     "data": {
      "text/plain": [
       "'20201106'"
      ]
     },
     "execution_count": 9,
     "metadata": {},
     "output_type": "execute_result"
    }
   ],
   "source": [
    "ref_recursive(4)"
   ]
  }
 ],
 "metadata": {
  "kernelspec": {
   "display_name": "Python 3",
   "language": "python",
   "name": "python3"
  },
  "language_info": {
   "codemirror_mode": {
    "name": "ipython",
    "version": 3
   },
   "file_extension": ".py",
   "mimetype": "text/x-python",
   "name": "python",
   "nbconvert_exporter": "python",
   "pygments_lexer": "ipython3",
   "version": "3.7.4"
  },
  "toc": {
   "base_numbering": 1,
   "nav_menu": {},
   "number_sections": true,
   "sideBar": true,
   "skip_h1_title": false,
   "title_cell": "Table of Contents",
   "title_sidebar": "Contents",
   "toc_cell": false,
   "toc_position": {},
   "toc_section_display": true,
   "toc_window_display": false
  },
  "varInspector": {
   "cols": {
    "lenName": 16,
    "lenType": 16,
    "lenVar": 40
   },
   "kernels_config": {
    "python": {
     "delete_cmd_postfix": "",
     "delete_cmd_prefix": "del ",
     "library": "var_list.py",
     "varRefreshCmd": "print(var_dic_list())"
    },
    "r": {
     "delete_cmd_postfix": ") ",
     "delete_cmd_prefix": "rm(",
     "library": "var_list.r",
     "varRefreshCmd": "cat(var_dic_list()) "
    }
   },
   "types_to_exclude": [
    "module",
    "function",
    "builtin_function_or_method",
    "instance",
    "_Feature"
   ],
   "window_display": false
  }
 },
 "nbformat": 4,
 "nbformat_minor": 4
}
